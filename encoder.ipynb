{
 "cells": [
  {
   "cell_type": "code",
   "execution_count": null,
   "id": "3e10a037",
   "metadata": {},
   "outputs": [],
   "source": [
    "# Github: https:github.com/stevemats\n",
    "\n",
    "import tensorflow as tf  \n",
    "from tensorflow import keras\n",
    "import matplotlib.pyplot as plt\n",
    "import cv2\n",
    "import numpy as np\n",
    "\n",
    "(x_train, y_train),(x_test, y_test) = tf.keras.datasets.mnist.load_data()  # loading \"mnist\" training dataset\n",
    "\n",
    "plt.imshow(x_train[0], cmap=\"gray\")"
   ]
  },
  {
   "cell_type": "code",
   "execution_count": null,
   "id": "e77778b7",
   "metadata": {},
   "outputs": [],
   "source": [
    "plt.imshow(x_train[1], cmap=\"gray\")"
   ]
  },
  {
   "cell_type": "code",
   "execution_count": null,
   "id": "e41414a8",
   "metadata": {},
   "outputs": [],
   "source": [
    "#compression so that data is 28*28px\n",
    "x_train[0]"
   ]
  },
  {
   "cell_type": "code",
   "execution_count": null,
   "id": "6fc8f5b6",
   "metadata": {},
   "outputs": [],
   "source": [
    "x_train[0].shape"
   ]
  },
  {
   "cell_type": "code",
   "execution_count": null,
   "id": "879708bd",
   "metadata": {},
   "outputs": [],
   "source": [
    "28*28\n",
    "# Below value is a result of the 28*28 px values equivalent to a total no. of unique features"
   ]
  },
  {
   "cell_type": "code",
   "execution_count": null,
   "id": "93b7158a",
   "metadata": {},
   "outputs": [],
   "source": [
    "encoder_input = keras.Input(shape=(28, 28, 1), name='img') # Starts encoder\n",
    "x = keras.layers.Flatten()(encoder_input) #flatten img so it can be used with dense layers\n",
    "encoder_output = keras.layers.Dense(64, activation=\"relu\")(x) # compression after flatten\n",
    "\n",
    "encoder = keras.Model(encoder_input, encoder_output, name='encoder')\n",
    "\n",
    "\n",
    "decoder_input = keras.layers.Dense(64, activation=\"relu\")(encoder_output) # starts decoder\n",
    "decoder_output = keras.layers.Reshape((28, 28, 1))(x)\n",
    "opt = tf.keras.optimizers.Adam(lr=0.001, decay=1e-6) # setting an optimizer\n",
    "#now combining encoder with decoder into a singular \"autoencoder\" model\n",
    "autoencoder = keras.Model(encoder_input, decoder_output, name='autoencoder') \n",
    "autoencoder.summary() #making sure theirs no errors"
   ]
  },
  {
   "cell_type": "code",
   "execution_count": null,
   "id": "5d768049",
   "metadata": {},
   "outputs": [],
   "source": [
    "autoencoder.compile(opt, loss='mse') #compiling our model with the optimizer and a loss metric"
   ]
  },
  {
   "cell_type": "code",
   "execution_count": null,
   "id": "cfa2d217",
   "metadata": {},
   "outputs": [],
   "source": [
    "# Training & saving the model each time\n",
    "epochs=3\n",
    "\n",
    "for epoch in range(epochs):\n",
    "\n",
    "    history = autoencoder.fit(\n",
    "      x_train,\n",
    "      x_train,\n",
    "      epochs=1, \n",
    "      batch_size=32, validation_split=0.10\n",
    "        )   \n",
    "    autoencoder.save(f\"models/AE-{epoch+1}.model\")"
   ]
  },
  {
   "cell_type": "code",
   "execution_count": null,
   "id": "7f2c51d4",
   "metadata": {},
   "outputs": [],
   "source": [
    "example = encoder.predict([ x_test[0].reshape(-1, 28, 28, 1) ])\n",
    "\n",
    "print(example[0].shape)"
   ]
  },
  {
   "cell_type": "code",
   "execution_count": null,
   "id": "65f34c63",
   "metadata": {},
   "outputs": [],
   "source": [
    "print(example[0])"
   ]
  },
  {
   "cell_type": "code",
   "execution_count": null,
   "id": "eb44adc8",
   "metadata": {},
   "outputs": [],
   "source": [
    "plt.imshow(example[0].reshape((8,8)), cmap=\"gray\") # visualizing an 8*8 vector of 64 values"
   ]
  },
  {
   "cell_type": "code",
   "execution_count": null,
   "id": "60291084",
   "metadata": {},
   "outputs": [],
   "source": [
    "plt.imshow(x_test[0], cmap=\"gray\")"
   ]
  },
  {
   "cell_type": "code",
   "execution_count": null,
   "id": "c2bab2c5",
   "metadata": {},
   "outputs": [],
   "source": [
    "plt.imshow(example[0].reshape((8,8)), cmap=\"gray\") # How the above looks after going through our autoencoder"
   ]
  },
  {
   "cell_type": "code",
   "execution_count": null,
   "id": "ef015c31",
   "metadata": {},
   "outputs": [],
   "source": [
    "ae_out = autoencoder.predict([ x_test[0].reshape(-1, 28, 28, 1) ])\n",
    "img = ae_out[0]  # predict is done on a vector, and returns a vector, even if its just 1 element, so we still need to grab the 0th\n",
    "plt.imshow(ae_out[0], cmap=\"gray\")"
   ]
  },
  {
   "cell_type": "code",
   "execution_count": null,
   "id": "e3cb3660",
   "metadata": {},
   "outputs": [],
   "source": [
    "plt.imshow(example[0].reshape((8,8)), cmap=\"gray\")"
   ]
  },
  {
   "cell_type": "code",
   "execution_count": null,
   "id": "73be078b",
   "metadata": {},
   "outputs": [],
   "source": [
    "# The idea  behind autoencoders is in data simplification\n",
    "for d in x_test[:5]:  \n",
    "\n",
    "    ae_out = autoencoder.predict([ d.reshape(-1, 28, 28, 1) ])\n",
    "    img = ae_out[0]\n",
    "\n",
    "    cv2.imshow(\"decoded\",img)\n",
    "    cv2.imshow(\"original\",np.array(d))\n",
    "    cv2.waitKey(1000)  # wait 1000ms = 1 sec, and then show the next"
   ]
  },
  {
   "cell_type": "code",
   "execution_count": null,
   "id": "12b106ea",
   "metadata": {},
   "outputs": [],
   "source": [
    "smaller = cv2.resize(x_test[0], (8,8))\n",
    "back_to_original = cv2.resize(smaller, (28,28))\n",
    "plt.imshow(smaller, cmap=\"gray\")"
   ]
  },
  {
   "cell_type": "code",
   "execution_count": null,
   "id": "f94b5850",
   "metadata": {},
   "outputs": [],
   "source": [
    "plt.imshow(back_to_original, cmap=\"gray\")"
   ]
  },
  {
   "cell_type": "code",
   "execution_count": null,
   "id": "ad67e246",
   "metadata": {},
   "outputs": [],
   "source": []
  }
 ],
 "metadata": {
  "kernelspec": {
   "display_name": "Python 3",
   "language": "python",
   "name": "python3"
  },
  "language_info": {
   "codemirror_mode": {
    "name": "ipython",
    "version": 3
   },
   "file_extension": ".py",
   "mimetype": "text/x-python",
   "name": "python",
   "nbconvert_exporter": "python",
   "pygments_lexer": "ipython3",
   "version": "3.8.8"
  }
 },
 "nbformat": 4,
 "nbformat_minor": 5
}
